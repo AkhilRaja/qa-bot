{
 "cells": [
  {
   "cell_type": "code",
   "execution_count": 1,
   "metadata": {},
   "outputs": [
    {
     "name": "stdout",
     "output_type": "stream",
     "text": [
      "Requirement already satisfied: langchain in /Users/akhilraja/Documents/qa-bot/qa-bot/.conda/lib/python3.11/site-packages (0.0.352)\n",
      "Requirement already satisfied: openai in /Users/akhilraja/Documents/qa-bot/qa-bot/.conda/lib/python3.11/site-packages (1.6.0)\n",
      "Requirement already satisfied: chromadb in /Users/akhilraja/Documents/qa-bot/qa-bot/.conda/lib/python3.11/site-packages (0.4.21)\n",
      "Requirement already satisfied: tiktoken in /Users/akhilraja/Documents/qa-bot/qa-bot/.conda/lib/python3.11/site-packages (0.5.2)\n",
      "Requirement already satisfied: pypdf in /Users/akhilraja/Documents/qa-bot/qa-bot/.conda/lib/python3.11/site-packages (3.17.3)\n",
      "Requirement already satisfied: panel in /Users/akhilraja/Documents/qa-bot/qa-bot/.conda/lib/python3.11/site-packages (1.3.6)\n",
      "Requirement already satisfied: PyYAML>=5.3 in /Users/akhilraja/Documents/qa-bot/qa-bot/.conda/lib/python3.11/site-packages (from langchain) (6.0.1)\n",
      "Requirement already satisfied: SQLAlchemy<3,>=1.4 in /Users/akhilraja/Documents/qa-bot/qa-bot/.conda/lib/python3.11/site-packages (from langchain) (2.0.23)\n",
      "Requirement already satisfied: aiohttp<4.0.0,>=3.8.3 in /Users/akhilraja/Documents/qa-bot/qa-bot/.conda/lib/python3.11/site-packages (from langchain) (3.9.1)\n",
      "Requirement already satisfied: dataclasses-json<0.7,>=0.5.7 in /Users/akhilraja/Documents/qa-bot/qa-bot/.conda/lib/python3.11/site-packages (from langchain) (0.6.3)\n",
      "Requirement already satisfied: jsonpatch<2.0,>=1.33 in /Users/akhilraja/Documents/qa-bot/qa-bot/.conda/lib/python3.11/site-packages (from langchain) (1.33)\n",
      "Requirement already satisfied: langchain-community<0.1,>=0.0.2 in /Users/akhilraja/Documents/qa-bot/qa-bot/.conda/lib/python3.11/site-packages (from langchain) (0.0.5)\n",
      "Requirement already satisfied: langchain-core<0.2,>=0.1 in /Users/akhilraja/Documents/qa-bot/qa-bot/.conda/lib/python3.11/site-packages (from langchain) (0.1.2)\n",
      "Requirement already satisfied: langsmith<0.1.0,>=0.0.70 in /Users/akhilraja/Documents/qa-bot/qa-bot/.conda/lib/python3.11/site-packages (from langchain) (0.0.72)\n",
      "Requirement already satisfied: numpy<2,>=1 in /Users/akhilraja/Documents/qa-bot/qa-bot/.conda/lib/python3.11/site-packages (from langchain) (1.26.2)\n",
      "Requirement already satisfied: pydantic<3,>=1 in /Users/akhilraja/Documents/qa-bot/qa-bot/.conda/lib/python3.11/site-packages (from langchain) (2.5.2)\n",
      "Requirement already satisfied: requests<3,>=2 in /Users/akhilraja/Documents/qa-bot/qa-bot/.conda/lib/python3.11/site-packages (from langchain) (2.31.0)\n",
      "Requirement already satisfied: tenacity<9.0.0,>=8.1.0 in /Users/akhilraja/Documents/qa-bot/qa-bot/.conda/lib/python3.11/site-packages (from langchain) (8.2.3)\n",
      "Requirement already satisfied: anyio<5,>=3.5.0 in /Users/akhilraja/Documents/qa-bot/qa-bot/.conda/lib/python3.11/site-packages (from openai) (3.7.1)\n",
      "Requirement already satisfied: distro<2,>=1.7.0 in /Users/akhilraja/Documents/qa-bot/qa-bot/.conda/lib/python3.11/site-packages (from openai) (1.8.0)\n",
      "Requirement already satisfied: httpx<1,>=0.23.0 in /Users/akhilraja/Documents/qa-bot/qa-bot/.conda/lib/python3.11/site-packages (from openai) (0.26.0)\n",
      "Requirement already satisfied: sniffio in /Users/akhilraja/Documents/qa-bot/qa-bot/.conda/lib/python3.11/site-packages (from openai) (1.3.0)\n",
      "Requirement already satisfied: tqdm>4 in /Users/akhilraja/Documents/qa-bot/qa-bot/.conda/lib/python3.11/site-packages (from openai) (4.66.1)\n",
      "Requirement already satisfied: typing-extensions<5,>=4.7 in /Users/akhilraja/Documents/qa-bot/qa-bot/.conda/lib/python3.11/site-packages (from openai) (4.9.0)\n",
      "Requirement already satisfied: chroma-hnswlib==0.7.3 in /Users/akhilraja/Documents/qa-bot/qa-bot/.conda/lib/python3.11/site-packages (from chromadb) (0.7.3)\n",
      "Requirement already satisfied: fastapi>=0.95.2 in /Users/akhilraja/Documents/qa-bot/qa-bot/.conda/lib/python3.11/site-packages (from chromadb) (0.105.0)\n",
      "Requirement already satisfied: uvicorn>=0.18.3 in /Users/akhilraja/Documents/qa-bot/qa-bot/.conda/lib/python3.11/site-packages (from uvicorn[standard]>=0.18.3->chromadb) (0.25.0)\n",
      "Requirement already satisfied: posthog>=2.4.0 in /Users/akhilraja/Documents/qa-bot/qa-bot/.conda/lib/python3.11/site-packages (from chromadb) (3.1.0)\n",
      "Requirement already satisfied: pulsar-client>=3.1.0 in /Users/akhilraja/Documents/qa-bot/qa-bot/.conda/lib/python3.11/site-packages (from chromadb) (3.3.0)\n",
      "Requirement already satisfied: onnxruntime>=1.14.1 in /Users/akhilraja/Documents/qa-bot/qa-bot/.conda/lib/python3.11/site-packages (from chromadb) (1.16.3)\n",
      "Requirement already satisfied: opentelemetry-api>=1.2.0 in /Users/akhilraja/Documents/qa-bot/qa-bot/.conda/lib/python3.11/site-packages (from chromadb) (1.22.0)\n",
      "Requirement already satisfied: opentelemetry-exporter-otlp-proto-grpc>=1.2.0 in /Users/akhilraja/Documents/qa-bot/qa-bot/.conda/lib/python3.11/site-packages (from chromadb) (1.22.0)\n",
      "Requirement already satisfied: opentelemetry-instrumentation-fastapi>=0.41b0 in /Users/akhilraja/Documents/qa-bot/qa-bot/.conda/lib/python3.11/site-packages (from chromadb) (0.43b0)\n",
      "Requirement already satisfied: opentelemetry-sdk>=1.2.0 in /Users/akhilraja/Documents/qa-bot/qa-bot/.conda/lib/python3.11/site-packages (from chromadb) (1.22.0)\n",
      "Requirement already satisfied: tokenizers>=0.13.2 in /Users/akhilraja/Documents/qa-bot/qa-bot/.conda/lib/python3.11/site-packages (from chromadb) (0.15.0)\n",
      "Requirement already satisfied: pypika>=0.48.9 in /Users/akhilraja/Documents/qa-bot/qa-bot/.conda/lib/python3.11/site-packages (from chromadb) (0.48.9)\n",
      "Requirement already satisfied: overrides>=7.3.1 in /Users/akhilraja/Documents/qa-bot/qa-bot/.conda/lib/python3.11/site-packages (from chromadb) (7.4.0)\n",
      "Requirement already satisfied: importlib-resources in /Users/akhilraja/Documents/qa-bot/qa-bot/.conda/lib/python3.11/site-packages (from chromadb) (6.1.1)\n",
      "Requirement already satisfied: grpcio>=1.58.0 in /Users/akhilraja/Documents/qa-bot/qa-bot/.conda/lib/python3.11/site-packages (from chromadb) (1.60.0)\n",
      "Requirement already satisfied: bcrypt>=4.0.1 in /Users/akhilraja/Documents/qa-bot/qa-bot/.conda/lib/python3.11/site-packages (from chromadb) (4.1.2)\n",
      "Requirement already satisfied: typer>=0.9.0 in /Users/akhilraja/Documents/qa-bot/qa-bot/.conda/lib/python3.11/site-packages (from chromadb) (0.9.0)\n",
      "Requirement already satisfied: kubernetes>=28.1.0 in /Users/akhilraja/Documents/qa-bot/qa-bot/.conda/lib/python3.11/site-packages (from chromadb) (28.1.0)\n",
      "Requirement already satisfied: mmh3>=4.0.1 in /Users/akhilraja/Documents/qa-bot/qa-bot/.conda/lib/python3.11/site-packages (from chromadb) (4.0.1)\n",
      "Requirement already satisfied: regex>=2022.1.18 in /Users/akhilraja/Documents/qa-bot/qa-bot/.conda/lib/python3.11/site-packages (from tiktoken) (2023.10.3)\n",
      "Requirement already satisfied: bokeh<3.4.0,>=3.2.0 in /Users/akhilraja/Documents/qa-bot/qa-bot/.conda/lib/python3.11/site-packages (from panel) (3.3.2)\n",
      "Requirement already satisfied: param<3.0,>=2.0.0 in /Users/akhilraja/Documents/qa-bot/qa-bot/.conda/lib/python3.11/site-packages (from panel) (2.0.1)\n",
      "Requirement already satisfied: pyviz-comms>=2.0.0 in /Users/akhilraja/Documents/qa-bot/qa-bot/.conda/lib/python3.11/site-packages (from panel) (3.0.0)\n",
      "Requirement already satisfied: xyzservices>=2021.09.1 in /Users/akhilraja/Documents/qa-bot/qa-bot/.conda/lib/python3.11/site-packages (from panel) (2023.10.1)\n",
      "Requirement already satisfied: markdown in /Users/akhilraja/Documents/qa-bot/qa-bot/.conda/lib/python3.11/site-packages (from panel) (3.5.1)\n",
      "Requirement already satisfied: markdown-it-py in /Users/akhilraja/Documents/qa-bot/qa-bot/.conda/lib/python3.11/site-packages (from panel) (3.0.0)\n",
      "Requirement already satisfied: linkify-it-py in /Users/akhilraja/Documents/qa-bot/qa-bot/.conda/lib/python3.11/site-packages (from panel) (2.0.2)\n",
      "Requirement already satisfied: mdit-py-plugins in /Users/akhilraja/Documents/qa-bot/qa-bot/.conda/lib/python3.11/site-packages (from panel) (0.4.0)\n",
      "Requirement already satisfied: bleach in /Users/akhilraja/Documents/qa-bot/qa-bot/.conda/lib/python3.11/site-packages (from panel) (6.1.0)\n",
      "Requirement already satisfied: pandas>=1.2 in /Users/akhilraja/Documents/qa-bot/qa-bot/.conda/lib/python3.11/site-packages (from panel) (2.1.4)\n",
      "Requirement already satisfied: attrs>=17.3.0 in /Users/akhilraja/Documents/qa-bot/qa-bot/.conda/lib/python3.11/site-packages (from aiohttp<4.0.0,>=3.8.3->langchain) (23.1.0)\n",
      "Requirement already satisfied: multidict<7.0,>=4.5 in /Users/akhilraja/Documents/qa-bot/qa-bot/.conda/lib/python3.11/site-packages (from aiohttp<4.0.0,>=3.8.3->langchain) (6.0.4)\n",
      "Requirement already satisfied: yarl<2.0,>=1.0 in /Users/akhilraja/Documents/qa-bot/qa-bot/.conda/lib/python3.11/site-packages (from aiohttp<4.0.0,>=3.8.3->langchain) (1.9.4)\n",
      "Requirement already satisfied: frozenlist>=1.1.1 in /Users/akhilraja/Documents/qa-bot/qa-bot/.conda/lib/python3.11/site-packages (from aiohttp<4.0.0,>=3.8.3->langchain) (1.4.1)\n",
      "Requirement already satisfied: aiosignal>=1.1.2 in /Users/akhilraja/Documents/qa-bot/qa-bot/.conda/lib/python3.11/site-packages (from aiohttp<4.0.0,>=3.8.3->langchain) (1.3.1)\n",
      "Requirement already satisfied: idna>=2.8 in /Users/akhilraja/Documents/qa-bot/qa-bot/.conda/lib/python3.11/site-packages (from anyio<5,>=3.5.0->openai) (3.6)\n",
      "Requirement already satisfied: Jinja2>=2.9 in /Users/akhilraja/Documents/qa-bot/qa-bot/.conda/lib/python3.11/site-packages (from bokeh<3.4.0,>=3.2.0->panel) (3.1.2)\n",
      "Requirement already satisfied: contourpy>=1 in /Users/akhilraja/Documents/qa-bot/qa-bot/.conda/lib/python3.11/site-packages (from bokeh<3.4.0,>=3.2.0->panel) (1.2.0)\n",
      "Requirement already satisfied: packaging>=16.8 in /Users/akhilraja/Documents/qa-bot/qa-bot/.conda/lib/python3.11/site-packages (from bokeh<3.4.0,>=3.2.0->panel) (23.2)\n",
      "Requirement already satisfied: pillow>=7.1.0 in /Users/akhilraja/Documents/qa-bot/qa-bot/.conda/lib/python3.11/site-packages (from bokeh<3.4.0,>=3.2.0->panel) (10.1.0)\n",
      "Requirement already satisfied: tornado>=5.1 in /Users/akhilraja/Documents/qa-bot/qa-bot/.conda/lib/python3.11/site-packages (from bokeh<3.4.0,>=3.2.0->panel) (6.3.3)\n",
      "Requirement already satisfied: marshmallow<4.0.0,>=3.18.0 in /Users/akhilraja/Documents/qa-bot/qa-bot/.conda/lib/python3.11/site-packages (from dataclasses-json<0.7,>=0.5.7->langchain) (3.20.1)\n",
      "Requirement already satisfied: typing-inspect<1,>=0.4.0 in /Users/akhilraja/Documents/qa-bot/qa-bot/.conda/lib/python3.11/site-packages (from dataclasses-json<0.7,>=0.5.7->langchain) (0.9.0)\n",
      "Requirement already satisfied: starlette<0.28.0,>=0.27.0 in /Users/akhilraja/Documents/qa-bot/qa-bot/.conda/lib/python3.11/site-packages (from fastapi>=0.95.2->chromadb) (0.27.0)\n",
      "Requirement already satisfied: certifi in /Users/akhilraja/Documents/qa-bot/qa-bot/.conda/lib/python3.11/site-packages (from httpx<1,>=0.23.0->openai) (2023.11.17)\n",
      "Requirement already satisfied: httpcore==1.* in /Users/akhilraja/Documents/qa-bot/qa-bot/.conda/lib/python3.11/site-packages (from httpx<1,>=0.23.0->openai) (1.0.2)\n",
      "Requirement already satisfied: h11<0.15,>=0.13 in /Users/akhilraja/Documents/qa-bot/qa-bot/.conda/lib/python3.11/site-packages (from httpcore==1.*->httpx<1,>=0.23.0->openai) (0.14.0)\n",
      "Requirement already satisfied: jsonpointer>=1.9 in /Users/akhilraja/Documents/qa-bot/qa-bot/.conda/lib/python3.11/site-packages (from jsonpatch<2.0,>=1.33->langchain) (2.4)\n",
      "Requirement already satisfied: six>=1.9.0 in /Users/akhilraja/Documents/qa-bot/qa-bot/.conda/lib/python3.11/site-packages (from kubernetes>=28.1.0->chromadb) (1.16.0)\n",
      "Requirement already satisfied: python-dateutil>=2.5.3 in /Users/akhilraja/Documents/qa-bot/qa-bot/.conda/lib/python3.11/site-packages (from kubernetes>=28.1.0->chromadb) (2.8.2)\n",
      "Requirement already satisfied: google-auth>=1.0.1 in /Users/akhilraja/Documents/qa-bot/qa-bot/.conda/lib/python3.11/site-packages (from kubernetes>=28.1.0->chromadb) (2.25.2)\n",
      "Requirement already satisfied: websocket-client!=0.40.0,!=0.41.*,!=0.42.*,>=0.32.0 in /Users/akhilraja/Documents/qa-bot/qa-bot/.conda/lib/python3.11/site-packages (from kubernetes>=28.1.0->chromadb) (1.7.0)\n",
      "Requirement already satisfied: requests-oauthlib in /Users/akhilraja/Documents/qa-bot/qa-bot/.conda/lib/python3.11/site-packages (from kubernetes>=28.1.0->chromadb) (1.3.1)\n",
      "Requirement already satisfied: oauthlib>=3.2.2 in /Users/akhilraja/Documents/qa-bot/qa-bot/.conda/lib/python3.11/site-packages (from kubernetes>=28.1.0->chromadb) (3.2.2)\n",
      "Requirement already satisfied: urllib3<2.0,>=1.24.2 in /Users/akhilraja/Documents/qa-bot/qa-bot/.conda/lib/python3.11/site-packages (from kubernetes>=28.1.0->chromadb) (1.26.18)\n",
      "Requirement already satisfied: coloredlogs in /Users/akhilraja/Documents/qa-bot/qa-bot/.conda/lib/python3.11/site-packages (from onnxruntime>=1.14.1->chromadb) (15.0.1)\n",
      "Requirement already satisfied: flatbuffers in /Users/akhilraja/Documents/qa-bot/qa-bot/.conda/lib/python3.11/site-packages (from onnxruntime>=1.14.1->chromadb) (23.5.26)\n",
      "Requirement already satisfied: protobuf in /Users/akhilraja/Documents/qa-bot/qa-bot/.conda/lib/python3.11/site-packages (from onnxruntime>=1.14.1->chromadb) (4.25.1)\n",
      "Requirement already satisfied: sympy in /Users/akhilraja/Documents/qa-bot/qa-bot/.conda/lib/python3.11/site-packages (from onnxruntime>=1.14.1->chromadb) (1.12)\n",
      "Requirement already satisfied: deprecated>=1.2.6 in /Users/akhilraja/Documents/qa-bot/qa-bot/.conda/lib/python3.11/site-packages (from opentelemetry-api>=1.2.0->chromadb) (1.2.14)\n",
      "Requirement already satisfied: importlib-metadata<7.0,>=6.0 in /Users/akhilraja/Documents/qa-bot/qa-bot/.conda/lib/python3.11/site-packages (from opentelemetry-api>=1.2.0->chromadb) (6.11.0)\n",
      "Requirement already satisfied: backoff<3.0.0,>=1.10.0 in /Users/akhilraja/Documents/qa-bot/qa-bot/.conda/lib/python3.11/site-packages (from opentelemetry-exporter-otlp-proto-grpc>=1.2.0->chromadb) (2.2.1)\n",
      "Requirement already satisfied: googleapis-common-protos~=1.52 in /Users/akhilraja/Documents/qa-bot/qa-bot/.conda/lib/python3.11/site-packages (from opentelemetry-exporter-otlp-proto-grpc>=1.2.0->chromadb) (1.62.0)\n",
      "Requirement already satisfied: opentelemetry-exporter-otlp-proto-common==1.22.0 in /Users/akhilraja/Documents/qa-bot/qa-bot/.conda/lib/python3.11/site-packages (from opentelemetry-exporter-otlp-proto-grpc>=1.2.0->chromadb) (1.22.0)\n",
      "Requirement already satisfied: opentelemetry-proto==1.22.0 in /Users/akhilraja/Documents/qa-bot/qa-bot/.conda/lib/python3.11/site-packages (from opentelemetry-exporter-otlp-proto-grpc>=1.2.0->chromadb) (1.22.0)\n",
      "Requirement already satisfied: opentelemetry-instrumentation-asgi==0.43b0 in /Users/akhilraja/Documents/qa-bot/qa-bot/.conda/lib/python3.11/site-packages (from opentelemetry-instrumentation-fastapi>=0.41b0->chromadb) (0.43b0)\n",
      "Requirement already satisfied: opentelemetry-instrumentation==0.43b0 in /Users/akhilraja/Documents/qa-bot/qa-bot/.conda/lib/python3.11/site-packages (from opentelemetry-instrumentation-fastapi>=0.41b0->chromadb) (0.43b0)\n",
      "Requirement already satisfied: opentelemetry-semantic-conventions==0.43b0 in /Users/akhilraja/Documents/qa-bot/qa-bot/.conda/lib/python3.11/site-packages (from opentelemetry-instrumentation-fastapi>=0.41b0->chromadb) (0.43b0)\n",
      "Requirement already satisfied: opentelemetry-util-http==0.43b0 in /Users/akhilraja/Documents/qa-bot/qa-bot/.conda/lib/python3.11/site-packages (from opentelemetry-instrumentation-fastapi>=0.41b0->chromadb) (0.43b0)\n",
      "Requirement already satisfied: setuptools>=16.0 in /Users/akhilraja/Documents/qa-bot/qa-bot/.conda/lib/python3.11/site-packages (from opentelemetry-instrumentation==0.43b0->opentelemetry-instrumentation-fastapi>=0.41b0->chromadb) (68.2.2)\n",
      "Requirement already satisfied: wrapt<2.0.0,>=1.0.0 in /Users/akhilraja/Documents/qa-bot/qa-bot/.conda/lib/python3.11/site-packages (from opentelemetry-instrumentation==0.43b0->opentelemetry-instrumentation-fastapi>=0.41b0->chromadb) (1.16.0)\n",
      "Requirement already satisfied: asgiref~=3.0 in /Users/akhilraja/Documents/qa-bot/qa-bot/.conda/lib/python3.11/site-packages (from opentelemetry-instrumentation-asgi==0.43b0->opentelemetry-instrumentation-fastapi>=0.41b0->chromadb) (3.7.2)\n",
      "Requirement already satisfied: pytz>=2020.1 in /Users/akhilraja/Documents/qa-bot/qa-bot/.conda/lib/python3.11/site-packages (from pandas>=1.2->panel) (2023.3.post1)\n",
      "Requirement already satisfied: tzdata>=2022.1 in /Users/akhilraja/Documents/qa-bot/qa-bot/.conda/lib/python3.11/site-packages (from pandas>=1.2->panel) (2023.3)\n",
      "Requirement already satisfied: monotonic>=1.5 in /Users/akhilraja/Documents/qa-bot/qa-bot/.conda/lib/python3.11/site-packages (from posthog>=2.4.0->chromadb) (1.6)\n",
      "Requirement already satisfied: annotated-types>=0.4.0 in /Users/akhilraja/Documents/qa-bot/qa-bot/.conda/lib/python3.11/site-packages (from pydantic<3,>=1->langchain) (0.6.0)\n",
      "Requirement already satisfied: pydantic-core==2.14.5 in /Users/akhilraja/Documents/qa-bot/qa-bot/.conda/lib/python3.11/site-packages (from pydantic<3,>=1->langchain) (2.14.5)\n",
      "Requirement already satisfied: charset-normalizer<4,>=2 in /Users/akhilraja/Documents/qa-bot/qa-bot/.conda/lib/python3.11/site-packages (from requests<3,>=2->langchain) (3.3.2)\n",
      "Requirement already satisfied: greenlet!=0.4.17 in /Users/akhilraja/Documents/qa-bot/qa-bot/.conda/lib/python3.11/site-packages (from SQLAlchemy<3,>=1.4->langchain) (3.0.2)\n",
      "Requirement already satisfied: huggingface_hub<1.0,>=0.16.4 in /Users/akhilraja/Documents/qa-bot/qa-bot/.conda/lib/python3.11/site-packages (from tokenizers>=0.13.2->chromadb) (0.20.1)\n",
      "Requirement already satisfied: click<9.0.0,>=7.1.1 in /Users/akhilraja/Documents/qa-bot/qa-bot/.conda/lib/python3.11/site-packages (from typer>=0.9.0->chromadb) (8.1.7)\n",
      "Requirement already satisfied: httptools>=0.5.0 in /Users/akhilraja/Documents/qa-bot/qa-bot/.conda/lib/python3.11/site-packages (from uvicorn[standard]>=0.18.3->chromadb) (0.6.1)\n",
      "Requirement already satisfied: python-dotenv>=0.13 in /Users/akhilraja/Documents/qa-bot/qa-bot/.conda/lib/python3.11/site-packages (from uvicorn[standard]>=0.18.3->chromadb) (1.0.0)\n",
      "Requirement already satisfied: uvloop!=0.15.0,!=0.15.1,>=0.14.0 in /Users/akhilraja/Documents/qa-bot/qa-bot/.conda/lib/python3.11/site-packages (from uvicorn[standard]>=0.18.3->chromadb) (0.19.0)\n",
      "Requirement already satisfied: watchfiles>=0.13 in /Users/akhilraja/Documents/qa-bot/qa-bot/.conda/lib/python3.11/site-packages (from uvicorn[standard]>=0.18.3->chromadb) (0.21.0)\n",
      "Requirement already satisfied: websockets>=10.4 in /Users/akhilraja/Documents/qa-bot/qa-bot/.conda/lib/python3.11/site-packages (from uvicorn[standard]>=0.18.3->chromadb) (12.0)\n",
      "Requirement already satisfied: webencodings in /Users/akhilraja/Documents/qa-bot/qa-bot/.conda/lib/python3.11/site-packages (from bleach->panel) (0.5.1)\n",
      "Requirement already satisfied: uc-micro-py in /Users/akhilraja/Documents/qa-bot/qa-bot/.conda/lib/python3.11/site-packages (from linkify-it-py->panel) (1.0.2)\n",
      "Requirement already satisfied: mdurl~=0.1 in /Users/akhilraja/Documents/qa-bot/qa-bot/.conda/lib/python3.11/site-packages (from markdown-it-py->panel) (0.1.2)\n",
      "Requirement already satisfied: cachetools<6.0,>=2.0.0 in /Users/akhilraja/Documents/qa-bot/qa-bot/.conda/lib/python3.11/site-packages (from google-auth>=1.0.1->kubernetes>=28.1.0->chromadb) (5.3.2)\n",
      "Requirement already satisfied: pyasn1-modules>=0.2.1 in /Users/akhilraja/Documents/qa-bot/qa-bot/.conda/lib/python3.11/site-packages (from google-auth>=1.0.1->kubernetes>=28.1.0->chromadb) (0.3.0)\n",
      "Requirement already satisfied: rsa<5,>=3.1.4 in /Users/akhilraja/Documents/qa-bot/qa-bot/.conda/lib/python3.11/site-packages (from google-auth>=1.0.1->kubernetes>=28.1.0->chromadb) (4.9)\n",
      "Requirement already satisfied: filelock in /Users/akhilraja/Documents/qa-bot/qa-bot/.conda/lib/python3.11/site-packages (from huggingface_hub<1.0,>=0.16.4->tokenizers>=0.13.2->chromadb) (3.13.1)\n",
      "Requirement already satisfied: fsspec>=2023.5.0 in /Users/akhilraja/Documents/qa-bot/qa-bot/.conda/lib/python3.11/site-packages (from huggingface_hub<1.0,>=0.16.4->tokenizers>=0.13.2->chromadb) (2023.12.2)\n",
      "Requirement already satisfied: zipp>=0.5 in /Users/akhilraja/Documents/qa-bot/qa-bot/.conda/lib/python3.11/site-packages (from importlib-metadata<7.0,>=6.0->opentelemetry-api>=1.2.0->chromadb) (3.17.0)\n",
      "Requirement already satisfied: MarkupSafe>=2.0 in /Users/akhilraja/Documents/qa-bot/qa-bot/.conda/lib/python3.11/site-packages (from Jinja2>=2.9->bokeh<3.4.0,>=3.2.0->panel) (2.1.3)\n",
      "Requirement already satisfied: mypy-extensions>=0.3.0 in /Users/akhilraja/Documents/qa-bot/qa-bot/.conda/lib/python3.11/site-packages (from typing-inspect<1,>=0.4.0->dataclasses-json<0.7,>=0.5.7->langchain) (1.0.0)\n",
      "Requirement already satisfied: humanfriendly>=9.1 in /Users/akhilraja/Documents/qa-bot/qa-bot/.conda/lib/python3.11/site-packages (from coloredlogs->onnxruntime>=1.14.1->chromadb) (10.0)\n",
      "Requirement already satisfied: mpmath>=0.19 in /Users/akhilraja/Documents/qa-bot/qa-bot/.conda/lib/python3.11/site-packages (from sympy->onnxruntime>=1.14.1->chromadb) (1.3.0)\n",
      "Requirement already satisfied: pyasn1<0.6.0,>=0.4.6 in /Users/akhilraja/Documents/qa-bot/qa-bot/.conda/lib/python3.11/site-packages (from pyasn1-modules>=0.2.1->google-auth>=1.0.1->kubernetes>=28.1.0->chromadb) (0.5.1)\n"
     ]
    }
   ],
   "source": [
    "! pip install langchain openai chromadb tiktoken pypdf panel"
   ]
  },
  {
   "cell_type": "code",
   "execution_count": 2,
   "metadata": {},
   "outputs": [],
   "source": [
    "from langchain.chains import RetrievalQA\n",
    "from langchain.llms import OpenAI\n",
    "from langchain.document_loaders import TextLoader\n",
    "from langchain.document_loaders import PyPDFLoader\n",
    "from langchain.indexes import VectorstoreIndexCreator\n",
    "from langchain.text_splitter import CharacterTextSplitter\n",
    "from langchain.embeddings import OpenAIEmbeddings\n",
    "from langchain.vectorstores import Chroma\n",
    "from langchain.chains import ConversationalRetrievalChain\n"
   ]
  },
  {
   "cell_type": "code",
   "execution_count": 3,
   "metadata": {},
   "outputs": [],
   "source": [
    "import getpass\n",
    "import os\n",
    "\n",
    "os.environ[\"OPENAI_API_KEY\"] = getpass.getpass()"
   ]
  },
  {
   "cell_type": "code",
   "execution_count": 4,
   "metadata": {},
   "outputs": [
    {
     "data": {
      "text/plain": [
       "[Document(page_content=' A Simple PDF File \\n This is a small demonstration .pdf file - \\n just for use in the Virtual Mechanics tutorials. More text. And more \\n text. And more text. And more text. And more text. \\n And more text. And more text. And more text. And more text. And more \\n text. And more text. Boring, zzzzz. And more text. And more text. And \\n more text. And more text. And more text. And more text. And more text. \\n And more text. And more text. \\n And more text. And more text. And more text. And more text. And more \\n text. And more text. And more text. Even more. Continued on page 2 ...', metadata={'source': 'sample.pdf', 'page': 0}),\n",
       " Document(page_content=' Simple PDF File 2 \\n ...continued from page 1. Yet more text. And more text. And more text. \\n And more text. And more text. And more text. And more text. And more \\n text. Oh, how boring typing this stuff. But not as boring as watching \\n paint dry. And more text. And more text. And more text. And more text. \\n Boring.  More, a little more text. The end, and just as well. ', metadata={'source': 'sample.pdf', 'page': 1})]"
      ]
     },
     "execution_count": 4,
     "metadata": {},
     "output_type": "execute_result"
    }
   ],
   "source": [
    "# load document\n",
    "loader = PyPDFLoader(\"sample.pdf\")\n",
    "documents = loader.load()\n",
    "documents"
   ]
  },
  {
   "cell_type": "code",
   "execution_count": 5,
   "metadata": {},
   "outputs": [
    {
     "data": {
      "text/plain": [
       "[Document(page_content='A Simple PDF File \\n This is a small demonstration .pdf file - \\n just for use in the Virtual Mechanics tutorials. More text. And more \\n text. And more text. And more text. And more text. \\n And more text. And more text. And more text. And more text. And more \\n text. And more text. Boring, zzzzz. And more text. And more text. And \\n more text. And more text. And more text. And more text. And more text. \\n And more text. And more text. \\n And more text. And more text. And more text. And more text. And more \\n text. And more text. And more text. Even more. Continued on page 2 ...', metadata={'source': 'sample.pdf', 'page': 0}),\n",
       " Document(page_content='Simple PDF File 2 \\n ...continued from page 1. Yet more text. And more text. And more text. \\n And more text. And more text. And more text. And more text. And more \\n text. Oh, how boring typing this stuff. But not as boring as watching \\n paint dry. And more text. And more text. And more text. And more text. \\n Boring.  More, a little more text. The end, and just as well.', metadata={'source': 'sample.pdf', 'page': 1})]"
      ]
     },
     "execution_count": 5,
     "metadata": {},
     "output_type": "execute_result"
    }
   ],
   "source": [
    "# split the documents into chunks\n",
    "text_splitter = CharacterTextSplitter(chunk_size=1000, chunk_overlap=0)\n",
    "texts = text_splitter.split_documents(documents)\n",
    "texts"
   ]
  },
  {
   "cell_type": "code",
   "execution_count": 6,
   "metadata": {},
   "outputs": [
    {
     "ename": "AuthenticationError",
     "evalue": "Error code: 401 - {'error': {'message': 'Incorrect API key provided: sk-EatUK***************************************cAFQ. You can find your API key at https://platform.openai.com/account/api-keys.', 'type': 'invalid_request_error', 'param': None, 'code': 'invalid_api_key'}}",
     "output_type": "error",
     "traceback": [
      "\u001b[0;31m---------------------------------------------------------------------------\u001b[0m",
      "\u001b[0;31mAuthenticationError\u001b[0m                       Traceback (most recent call last)",
      "\u001b[1;32m/Users/akhilraja/Documents/qa-bot/qa-bot/test-notebooks/qa-bot.ipynb Cell 6\u001b[0m line \u001b[0;36m4\n\u001b[1;32m      <a href='vscode-notebook-cell:/Users/akhilraja/Documents/qa-bot/qa-bot/test-notebooks/qa-bot.ipynb#W5sZmlsZQ%3D%3D?line=1'>2</a>\u001b[0m embeddings \u001b[39m=\u001b[39m OpenAIEmbeddings()\n\u001b[1;32m      <a href='vscode-notebook-cell:/Users/akhilraja/Documents/qa-bot/qa-bot/test-notebooks/qa-bot.ipynb#W5sZmlsZQ%3D%3D?line=2'>3</a>\u001b[0m \u001b[39m# create the vectorestore to use as the index\u001b[39;00m\n\u001b[0;32m----> <a href='vscode-notebook-cell:/Users/akhilraja/Documents/qa-bot/qa-bot/test-notebooks/qa-bot.ipynb#W5sZmlsZQ%3D%3D?line=3'>4</a>\u001b[0m db \u001b[39m=\u001b[39m Chroma\u001b[39m.\u001b[39;49mfrom_documents(texts, embeddings)\n\u001b[1;32m      <a href='vscode-notebook-cell:/Users/akhilraja/Documents/qa-bot/qa-bot/test-notebooks/qa-bot.ipynb#W5sZmlsZQ%3D%3D?line=4'>5</a>\u001b[0m \u001b[39m# expose this index in a retriever interface\u001b[39;00m\n\u001b[1;32m      <a href='vscode-notebook-cell:/Users/akhilraja/Documents/qa-bot/qa-bot/test-notebooks/qa-bot.ipynb#W5sZmlsZQ%3D%3D?line=5'>6</a>\u001b[0m retriever \u001b[39m=\u001b[39m db\u001b[39m.\u001b[39mas_retriever(search_type\u001b[39m=\u001b[39m\u001b[39m\"\u001b[39m\u001b[39msimilarity\u001b[39m\u001b[39m\"\u001b[39m, search_kwargs\u001b[39m=\u001b[39m{\u001b[39m\"\u001b[39m\u001b[39mk\u001b[39m\u001b[39m\"\u001b[39m:\u001b[39m2\u001b[39m})\n",
      "File \u001b[0;32m~/Documents/qa-bot/qa-bot/.conda/lib/python3.11/site-packages/langchain_community/vectorstores/chroma.py:771\u001b[0m, in \u001b[0;36mChroma.from_documents\u001b[0;34m(cls, documents, embedding, ids, collection_name, persist_directory, client_settings, client, collection_metadata, **kwargs)\u001b[0m\n\u001b[1;32m    769\u001b[0m texts \u001b[39m=\u001b[39m [doc\u001b[39m.\u001b[39mpage_content \u001b[39mfor\u001b[39;00m doc \u001b[39min\u001b[39;00m documents]\n\u001b[1;32m    770\u001b[0m metadatas \u001b[39m=\u001b[39m [doc\u001b[39m.\u001b[39mmetadata \u001b[39mfor\u001b[39;00m doc \u001b[39min\u001b[39;00m documents]\n\u001b[0;32m--> 771\u001b[0m \u001b[39mreturn\u001b[39;00m \u001b[39mcls\u001b[39;49m\u001b[39m.\u001b[39;49mfrom_texts(\n\u001b[1;32m    772\u001b[0m     texts\u001b[39m=\u001b[39;49mtexts,\n\u001b[1;32m    773\u001b[0m     embedding\u001b[39m=\u001b[39;49membedding,\n\u001b[1;32m    774\u001b[0m     metadatas\u001b[39m=\u001b[39;49mmetadatas,\n\u001b[1;32m    775\u001b[0m     ids\u001b[39m=\u001b[39;49mids,\n\u001b[1;32m    776\u001b[0m     collection_name\u001b[39m=\u001b[39;49mcollection_name,\n\u001b[1;32m    777\u001b[0m     persist_directory\u001b[39m=\u001b[39;49mpersist_directory,\n\u001b[1;32m    778\u001b[0m     client_settings\u001b[39m=\u001b[39;49mclient_settings,\n\u001b[1;32m    779\u001b[0m     client\u001b[39m=\u001b[39;49mclient,\n\u001b[1;32m    780\u001b[0m     collection_metadata\u001b[39m=\u001b[39;49mcollection_metadata,\n\u001b[1;32m    781\u001b[0m     \u001b[39m*\u001b[39;49m\u001b[39m*\u001b[39;49mkwargs,\n\u001b[1;32m    782\u001b[0m )\n",
      "File \u001b[0;32m~/Documents/qa-bot/qa-bot/.conda/lib/python3.11/site-packages/langchain_community/vectorstores/chroma.py:729\u001b[0m, in \u001b[0;36mChroma.from_texts\u001b[0;34m(cls, texts, embedding, metadatas, ids, collection_name, persist_directory, client_settings, client, collection_metadata, **kwargs)\u001b[0m\n\u001b[1;32m    721\u001b[0m     \u001b[39mfrom\u001b[39;00m \u001b[39mchromadb\u001b[39;00m\u001b[39m.\u001b[39;00m\u001b[39mutils\u001b[39;00m\u001b[39m.\u001b[39;00m\u001b[39mbatch_utils\u001b[39;00m \u001b[39mimport\u001b[39;00m create_batches\n\u001b[1;32m    723\u001b[0m     \u001b[39mfor\u001b[39;00m batch \u001b[39min\u001b[39;00m create_batches(\n\u001b[1;32m    724\u001b[0m         api\u001b[39m=\u001b[39mchroma_collection\u001b[39m.\u001b[39m_client,\n\u001b[1;32m    725\u001b[0m         ids\u001b[39m=\u001b[39mids,\n\u001b[1;32m    726\u001b[0m         metadatas\u001b[39m=\u001b[39mmetadatas,\n\u001b[1;32m    727\u001b[0m         documents\u001b[39m=\u001b[39mtexts,\n\u001b[1;32m    728\u001b[0m     ):\n\u001b[0;32m--> 729\u001b[0m         chroma_collection\u001b[39m.\u001b[39;49madd_texts(\n\u001b[1;32m    730\u001b[0m             texts\u001b[39m=\u001b[39;49mbatch[\u001b[39m3\u001b[39;49m] \u001b[39mif\u001b[39;49;00m batch[\u001b[39m3\u001b[39;49m] \u001b[39melse\u001b[39;49;00m [],\n\u001b[1;32m    731\u001b[0m             metadatas\u001b[39m=\u001b[39;49mbatch[\u001b[39m2\u001b[39;49m] \u001b[39mif\u001b[39;49;00m batch[\u001b[39m2\u001b[39;49m] \u001b[39melse\u001b[39;49;00m \u001b[39mNone\u001b[39;49;00m,\n\u001b[1;32m    732\u001b[0m             ids\u001b[39m=\u001b[39;49mbatch[\u001b[39m0\u001b[39;49m],\n\u001b[1;32m    733\u001b[0m         )\n\u001b[1;32m    734\u001b[0m \u001b[39melse\u001b[39;00m:\n\u001b[1;32m    735\u001b[0m     chroma_collection\u001b[39m.\u001b[39madd_texts(texts\u001b[39m=\u001b[39mtexts, metadatas\u001b[39m=\u001b[39mmetadatas, ids\u001b[39m=\u001b[39mids)\n",
      "File \u001b[0;32m~/Documents/qa-bot/qa-bot/.conda/lib/python3.11/site-packages/langchain_community/vectorstores/chroma.py:275\u001b[0m, in \u001b[0;36mChroma.add_texts\u001b[0;34m(self, texts, metadatas, ids, **kwargs)\u001b[0m\n\u001b[1;32m    273\u001b[0m texts \u001b[39m=\u001b[39m \u001b[39mlist\u001b[39m(texts)\n\u001b[1;32m    274\u001b[0m \u001b[39mif\u001b[39;00m \u001b[39mself\u001b[39m\u001b[39m.\u001b[39m_embedding_function \u001b[39mis\u001b[39;00m \u001b[39mnot\u001b[39;00m \u001b[39mNone\u001b[39;00m:\n\u001b[0;32m--> 275\u001b[0m     embeddings \u001b[39m=\u001b[39m \u001b[39mself\u001b[39;49m\u001b[39m.\u001b[39;49m_embedding_function\u001b[39m.\u001b[39;49membed_documents(texts)\n\u001b[1;32m    276\u001b[0m \u001b[39mif\u001b[39;00m metadatas:\n\u001b[1;32m    277\u001b[0m     \u001b[39m# fill metadatas with empty dicts if somebody\u001b[39;00m\n\u001b[1;32m    278\u001b[0m     \u001b[39m# did not specify metadata for all texts\u001b[39;00m\n\u001b[1;32m    279\u001b[0m     length_diff \u001b[39m=\u001b[39m \u001b[39mlen\u001b[39m(texts) \u001b[39m-\u001b[39m \u001b[39mlen\u001b[39m(metadatas)\n",
      "File \u001b[0;32m~/Documents/qa-bot/qa-bot/.conda/lib/python3.11/site-packages/langchain_community/embeddings/openai.py:667\u001b[0m, in \u001b[0;36mOpenAIEmbeddings.embed_documents\u001b[0;34m(self, texts, chunk_size)\u001b[0m\n\u001b[1;32m    664\u001b[0m \u001b[39m# NOTE: to keep things simple, we assume the list may contain texts longer\u001b[39;00m\n\u001b[1;32m    665\u001b[0m \u001b[39m#       than the maximum context and use length-safe embedding function.\u001b[39;00m\n\u001b[1;32m    666\u001b[0m engine \u001b[39m=\u001b[39m cast(\u001b[39mstr\u001b[39m, \u001b[39mself\u001b[39m\u001b[39m.\u001b[39mdeployment)\n\u001b[0;32m--> 667\u001b[0m \u001b[39mreturn\u001b[39;00m \u001b[39mself\u001b[39;49m\u001b[39m.\u001b[39;49m_get_len_safe_embeddings(texts, engine\u001b[39m=\u001b[39;49mengine)\n",
      "File \u001b[0;32m~/Documents/qa-bot/qa-bot/.conda/lib/python3.11/site-packages/langchain_community/embeddings/openai.py:493\u001b[0m, in \u001b[0;36mOpenAIEmbeddings._get_len_safe_embeddings\u001b[0;34m(self, texts, engine, chunk_size)\u001b[0m\n\u001b[1;32m    491\u001b[0m batched_embeddings: List[List[\u001b[39mfloat\u001b[39m]] \u001b[39m=\u001b[39m []\n\u001b[1;32m    492\u001b[0m \u001b[39mfor\u001b[39;00m i \u001b[39min\u001b[39;00m _iter:\n\u001b[0;32m--> 493\u001b[0m     response \u001b[39m=\u001b[39m embed_with_retry(\n\u001b[1;32m    494\u001b[0m         \u001b[39mself\u001b[39;49m,\n\u001b[1;32m    495\u001b[0m         \u001b[39minput\u001b[39;49m\u001b[39m=\u001b[39;49mtokens[i : i \u001b[39m+\u001b[39;49m _chunk_size],\n\u001b[1;32m    496\u001b[0m         \u001b[39m*\u001b[39;49m\u001b[39m*\u001b[39;49m\u001b[39mself\u001b[39;49m\u001b[39m.\u001b[39;49m_invocation_params,\n\u001b[1;32m    497\u001b[0m     )\n\u001b[1;32m    498\u001b[0m     \u001b[39mif\u001b[39;00m \u001b[39mnot\u001b[39;00m \u001b[39misinstance\u001b[39m(response, \u001b[39mdict\u001b[39m):\n\u001b[1;32m    499\u001b[0m         response \u001b[39m=\u001b[39m response\u001b[39m.\u001b[39mdict()\n",
      "File \u001b[0;32m~/Documents/qa-bot/qa-bot/.conda/lib/python3.11/site-packages/langchain_community/embeddings/openai.py:115\u001b[0m, in \u001b[0;36membed_with_retry\u001b[0;34m(embeddings, **kwargs)\u001b[0m\n\u001b[1;32m    113\u001b[0m \u001b[39m\u001b[39m\u001b[39m\"\"\"Use tenacity to retry the embedding call.\"\"\"\u001b[39;00m\n\u001b[1;32m    114\u001b[0m \u001b[39mif\u001b[39;00m _is_openai_v1():\n\u001b[0;32m--> 115\u001b[0m     \u001b[39mreturn\u001b[39;00m embeddings\u001b[39m.\u001b[39;49mclient\u001b[39m.\u001b[39;49mcreate(\u001b[39m*\u001b[39;49m\u001b[39m*\u001b[39;49mkwargs)\n\u001b[1;32m    116\u001b[0m retry_decorator \u001b[39m=\u001b[39m _create_retry_decorator(embeddings)\n\u001b[1;32m    118\u001b[0m \u001b[39m@retry_decorator\u001b[39m\n\u001b[1;32m    119\u001b[0m \u001b[39mdef\u001b[39;00m \u001b[39m_embed_with_retry\u001b[39m(\u001b[39m*\u001b[39m\u001b[39m*\u001b[39mkwargs: Any) \u001b[39m-\u001b[39m\u001b[39m>\u001b[39m Any:\n",
      "File \u001b[0;32m~/Documents/qa-bot/qa-bot/.conda/lib/python3.11/site-packages/openai/resources/embeddings.py:106\u001b[0m, in \u001b[0;36mEmbeddings.create\u001b[0;34m(self, input, model, encoding_format, user, extra_headers, extra_query, extra_body, timeout)\u001b[0m\n\u001b[1;32m    100\u001b[0m         embedding\u001b[39m.\u001b[39membedding \u001b[39m=\u001b[39m np\u001b[39m.\u001b[39mfrombuffer(  \u001b[39m# type: ignore[no-untyped-call]\u001b[39;00m\n\u001b[1;32m    101\u001b[0m             base64\u001b[39m.\u001b[39mb64decode(data), dtype\u001b[39m=\u001b[39m\u001b[39m\"\u001b[39m\u001b[39mfloat32\u001b[39m\u001b[39m\"\u001b[39m\n\u001b[1;32m    102\u001b[0m         )\u001b[39m.\u001b[39mtolist()\n\u001b[1;32m    104\u001b[0m     \u001b[39mreturn\u001b[39;00m obj\n\u001b[0;32m--> 106\u001b[0m \u001b[39mreturn\u001b[39;00m \u001b[39mself\u001b[39;49m\u001b[39m.\u001b[39;49m_post(\n\u001b[1;32m    107\u001b[0m     \u001b[39m\"\u001b[39;49m\u001b[39m/embeddings\u001b[39;49m\u001b[39m\"\u001b[39;49m,\n\u001b[1;32m    108\u001b[0m     body\u001b[39m=\u001b[39;49mmaybe_transform(params, embedding_create_params\u001b[39m.\u001b[39;49mEmbeddingCreateParams),\n\u001b[1;32m    109\u001b[0m     options\u001b[39m=\u001b[39;49mmake_request_options(\n\u001b[1;32m    110\u001b[0m         extra_headers\u001b[39m=\u001b[39;49mextra_headers,\n\u001b[1;32m    111\u001b[0m         extra_query\u001b[39m=\u001b[39;49mextra_query,\n\u001b[1;32m    112\u001b[0m         extra_body\u001b[39m=\u001b[39;49mextra_body,\n\u001b[1;32m    113\u001b[0m         timeout\u001b[39m=\u001b[39;49mtimeout,\n\u001b[1;32m    114\u001b[0m         post_parser\u001b[39m=\u001b[39;49mparser,\n\u001b[1;32m    115\u001b[0m     ),\n\u001b[1;32m    116\u001b[0m     cast_to\u001b[39m=\u001b[39;49mCreateEmbeddingResponse,\n\u001b[1;32m    117\u001b[0m )\n",
      "File \u001b[0;32m~/Documents/qa-bot/qa-bot/.conda/lib/python3.11/site-packages/openai/_base_client.py:1088\u001b[0m, in \u001b[0;36mSyncAPIClient.post\u001b[0;34m(self, path, cast_to, body, options, files, stream, stream_cls)\u001b[0m\n\u001b[1;32m   1074\u001b[0m \u001b[39mdef\u001b[39;00m \u001b[39mpost\u001b[39m(\n\u001b[1;32m   1075\u001b[0m     \u001b[39mself\u001b[39m,\n\u001b[1;32m   1076\u001b[0m     path: \u001b[39mstr\u001b[39m,\n\u001b[0;32m   (...)\u001b[0m\n\u001b[1;32m   1083\u001b[0m     stream_cls: \u001b[39mtype\u001b[39m[_StreamT] \u001b[39m|\u001b[39m \u001b[39mNone\u001b[39;00m \u001b[39m=\u001b[39m \u001b[39mNone\u001b[39;00m,\n\u001b[1;32m   1084\u001b[0m ) \u001b[39m-\u001b[39m\u001b[39m>\u001b[39m ResponseT \u001b[39m|\u001b[39m _StreamT:\n\u001b[1;32m   1085\u001b[0m     opts \u001b[39m=\u001b[39m FinalRequestOptions\u001b[39m.\u001b[39mconstruct(\n\u001b[1;32m   1086\u001b[0m         method\u001b[39m=\u001b[39m\u001b[39m\"\u001b[39m\u001b[39mpost\u001b[39m\u001b[39m\"\u001b[39m, url\u001b[39m=\u001b[39mpath, json_data\u001b[39m=\u001b[39mbody, files\u001b[39m=\u001b[39mto_httpx_files(files), \u001b[39m*\u001b[39m\u001b[39m*\u001b[39moptions\n\u001b[1;32m   1087\u001b[0m     )\n\u001b[0;32m-> 1088\u001b[0m     \u001b[39mreturn\u001b[39;00m cast(ResponseT, \u001b[39mself\u001b[39;49m\u001b[39m.\u001b[39;49mrequest(cast_to, opts, stream\u001b[39m=\u001b[39;49mstream, stream_cls\u001b[39m=\u001b[39;49mstream_cls))\n",
      "File \u001b[0;32m~/Documents/qa-bot/qa-bot/.conda/lib/python3.11/site-packages/openai/_base_client.py:853\u001b[0m, in \u001b[0;36mSyncAPIClient.request\u001b[0;34m(self, cast_to, options, remaining_retries, stream, stream_cls)\u001b[0m\n\u001b[1;32m    844\u001b[0m \u001b[39mdef\u001b[39;00m \u001b[39mrequest\u001b[39m(\n\u001b[1;32m    845\u001b[0m     \u001b[39mself\u001b[39m,\n\u001b[1;32m    846\u001b[0m     cast_to: Type[ResponseT],\n\u001b[0;32m   (...)\u001b[0m\n\u001b[1;32m    851\u001b[0m     stream_cls: \u001b[39mtype\u001b[39m[_StreamT] \u001b[39m|\u001b[39m \u001b[39mNone\u001b[39;00m \u001b[39m=\u001b[39m \u001b[39mNone\u001b[39;00m,\n\u001b[1;32m    852\u001b[0m ) \u001b[39m-\u001b[39m\u001b[39m>\u001b[39m ResponseT \u001b[39m|\u001b[39m _StreamT:\n\u001b[0;32m--> 853\u001b[0m     \u001b[39mreturn\u001b[39;00m \u001b[39mself\u001b[39;49m\u001b[39m.\u001b[39;49m_request(\n\u001b[1;32m    854\u001b[0m         cast_to\u001b[39m=\u001b[39;49mcast_to,\n\u001b[1;32m    855\u001b[0m         options\u001b[39m=\u001b[39;49moptions,\n\u001b[1;32m    856\u001b[0m         stream\u001b[39m=\u001b[39;49mstream,\n\u001b[1;32m    857\u001b[0m         stream_cls\u001b[39m=\u001b[39;49mstream_cls,\n\u001b[1;32m    858\u001b[0m         remaining_retries\u001b[39m=\u001b[39;49mremaining_retries,\n\u001b[1;32m    859\u001b[0m     )\n",
      "File \u001b[0;32m~/Documents/qa-bot/qa-bot/.conda/lib/python3.11/site-packages/openai/_base_client.py:930\u001b[0m, in \u001b[0;36mSyncAPIClient._request\u001b[0;34m(self, cast_to, options, remaining_retries, stream, stream_cls)\u001b[0m\n\u001b[1;32m    927\u001b[0m     \u001b[39mif\u001b[39;00m \u001b[39mnot\u001b[39;00m err\u001b[39m.\u001b[39mresponse\u001b[39m.\u001b[39mis_closed:\n\u001b[1;32m    928\u001b[0m         err\u001b[39m.\u001b[39mresponse\u001b[39m.\u001b[39mread()\n\u001b[0;32m--> 930\u001b[0m     \u001b[39mraise\u001b[39;00m \u001b[39mself\u001b[39m\u001b[39m.\u001b[39m_make_status_error_from_response(err\u001b[39m.\u001b[39mresponse) \u001b[39mfrom\u001b[39;00m \u001b[39mNone\u001b[39;00m\n\u001b[1;32m    932\u001b[0m \u001b[39mreturn\u001b[39;00m \u001b[39mself\u001b[39m\u001b[39m.\u001b[39m_process_response(\n\u001b[1;32m    933\u001b[0m     cast_to\u001b[39m=\u001b[39mcast_to,\n\u001b[1;32m    934\u001b[0m     options\u001b[39m=\u001b[39moptions,\n\u001b[0;32m   (...)\u001b[0m\n\u001b[1;32m    937\u001b[0m     stream_cls\u001b[39m=\u001b[39mstream_cls,\n\u001b[1;32m    938\u001b[0m )\n",
      "\u001b[0;31mAuthenticationError\u001b[0m: Error code: 401 - {'error': {'message': 'Incorrect API key provided: sk-EatUK***************************************cAFQ. You can find your API key at https://platform.openai.com/account/api-keys.', 'type': 'invalid_request_error', 'param': None, 'code': 'invalid_api_key'}}"
     ]
    }
   ],
   "source": [
    "# select which embeddings we want to use\n",
    "embeddings = OpenAIEmbeddings()\n",
    "# create the vectorestore to use as the index\n",
    "db = Chroma.from_documents(texts, embeddings)\n",
    "# expose this index in a retriever interface\n",
    "retriever = db.as_retriever(search_type=\"similarity\", search_kwargs={\"k\":2})\n",
    "db\n"
   ]
  },
  {
   "cell_type": "code",
   "execution_count": null,
   "metadata": {},
   "outputs": [],
   "source": [
    "\n",
    "# create a chain to answer questions \n",
    "qa = ConversationalRetrievalChain.from_llm(OpenAI(), retriever)\n",
    "chat_history = []\n",
    "query = \"Give me a summary of the document\"\n",
    "result = qa({\"question\": query, \"chat_history\": chat_history})"
   ]
  },
  {
   "cell_type": "code",
   "execution_count": null,
   "metadata": {},
   "outputs": [
    {
     "data": {
      "text/plain": [
       "' The document is a small demonstration PDF file for use in Virtual Mechanics tutorials. It includes multiple repetitions of the text \"More text\" and the phrase \"And more text,\" as well as a statement about the text being boring. It also mentions that the document continues on to page 2.'"
      ]
     },
     "execution_count": 36,
     "metadata": {},
     "output_type": "execute_result"
    }
   ],
   "source": [
    "result[\"answer\"]\n"
   ]
  },
  {
   "cell_type": "code",
   "execution_count": null,
   "metadata": {},
   "outputs": [],
   "source": [
    "chat_history = [(query, result[\"answer\"])]\n",
    "query = \"What is this number divided by 2?\"\n",
    "result = qa({\"question\": query, \"chat_history\": chat_history})"
   ]
  },
  {
   "cell_type": "code",
   "execution_count": null,
   "metadata": {},
   "outputs": [
    {
     "data": {
      "text/plain": [
       "[('what is the total number of AI publications?', \" I don't know.\")]"
      ]
     },
     "execution_count": 27,
     "metadata": {},
     "output_type": "execute_result"
    }
   ],
   "source": [
    "chat_history"
   ]
  },
  {
   "cell_type": "code",
   "execution_count": null,
   "metadata": {},
   "outputs": [
    {
     "data": {
      "text/plain": [
       "\" I don't know.\""
      ]
     },
     "execution_count": 28,
     "metadata": {},
     "output_type": "execute_result"
    }
   ],
   "source": [
    "result['answer']"
   ]
  }
 ],
 "metadata": {
  "kernelspec": {
   "display_name": "Python 3",
   "language": "python",
   "name": "python3"
  },
  "language_info": {
   "codemirror_mode": {
    "name": "ipython",
    "version": 3
   },
   "file_extension": ".py",
   "mimetype": "text/x-python",
   "name": "python",
   "nbconvert_exporter": "python",
   "pygments_lexer": "ipython3",
   "version": "3.11.5"
  }
 },
 "nbformat": 4,
 "nbformat_minor": 2
}
